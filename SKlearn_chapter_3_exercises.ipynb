{
  "nbformat": 4,
  "nbformat_minor": 0,
  "metadata": {
    "colab": {
      "provenance": []
    },
    "kernelspec": {
      "name": "python3",
      "display_name": "Python 3"
    },
    "language_info": {
      "name": "python"
    }
  },
  "cells": [
    {
      "cell_type": "code",
      "execution_count": 2,
      "metadata": {
        "id": "xoVEyszEYbJd"
      },
      "outputs": [],
      "source": [
        "import sklearn\n",
        "import matplotlib as mpl\n",
        "import matplotlib.pyplot as plt\n",
        "import numpy as np\n",
        "import warnings\n",
        "warnings.filterwarnings(action= 'ignore')"
      ]
    },
    {
      "cell_type": "markdown",
      "source": [
        "# Load in MNIST"
      ],
      "metadata": {
        "id": "VKwnmKu1YkND"
      }
    },
    {
      "cell_type": "code",
      "source": [
        "from sklearn.datasets import fetch_openml\n",
        "mnist = fetch_openml('mnist_784', version=1)\n",
        "mnist.keys()"
      ],
      "metadata": {
        "colab": {
          "base_uri": "https://localhost:8080/"
        },
        "id": "MGDCqSqFYfzV",
        "outputId": "85fa5e78-c452-46fd-9aa7-06d7ce9124e3"
      },
      "execution_count": 3,
      "outputs": [
        {
          "output_type": "execute_result",
          "data": {
            "text/plain": [
              "dict_keys(['data', 'target', 'frame', 'categories', 'feature_names', 'target_names', 'DESCR', 'details', 'url'])"
            ]
          },
          "metadata": {},
          "execution_count": 3
        }
      ]
    },
    {
      "cell_type": "code",
      "source": [
        "X, y = mnist[\"data\"], mnist[\"target\"]"
      ],
      "metadata": {
        "id": "fDLQg5_BYiRW"
      },
      "execution_count": 4,
      "outputs": []
    },
    {
      "cell_type": "code",
      "source": [
        "split = 60000\n",
        "X_train, X_test, y_train, y_test = X[:split], X[split:], y[:split], y[split:]\n",
        "y_train, y_test = y_train.astype(np.uint8), y_test.astype(np.uint8)"
      ],
      "metadata": {
        "id": "ezUaLQd_Yjf6"
      },
      "execution_count": 5,
      "outputs": []
    },
    {
      "cell_type": "markdown",
      "source": [
        "# 1. Build a classifier for the MNIST dataset that achieves over 97% accuracy on the test set. \n",
        "\n",
        "**K-Nearest Neighbor**\n",
        "\n",
        "* A non-parametric algorithm which does not make assumptions about the data\n",
        "* \"Lazy Algorithm\"\n",
        "   * At training phase, stores data and classifies data into a category similar to new data\n",
        "   * The n_neighbors parameter tells us how many nearest neighbors to look at to make decisions\n",
        "* Basically find the k nearest neighbors, and calculate the euclidean distance of them and find the number of each class that is close and classify that way\n",
        "   * Can also use the Manhattan distance - encourages sparsity with the l2 norm, which 0s out components with worse predictive power\n",
        "      * This is the abs. value of the sum of differences for each feature rather than a straight line difference\n",
        "   * Hamming distance, which can be used for categorical variables\n",
        "\n",
        "----------------------------------------------\n",
        "* We could do a brute force method that uses the number of other training instances as the number of neighbors\n",
        "    * Really computationally expensive\n",
        "* k-d tree turns into a binary hierarchical tree, ball trees are similar but efficient with high dimensions (creates two 100% separated clusters and checks new value compared to the two centroids, and it does this again for each other cluster to make a tree basically)\n",
        "\n",
        "\n",
        "* One cool implementation I saw is collecting RGB values (color histogram) of an image to classify dog vs cat. A better example would be identifying the shape of signs in an image, and classifying based on the predominance of the color in it"
      ],
      "metadata": {
        "id": "eFSCCRMXYrG_"
      }
    },
    {
      "cell_type": "code",
      "source": [
        "from sklearn.neighbors import KNeighborsClassifier\n",
        "from sklearn import metrics\n",
        "\n",
        "\n",
        "neigh = KNeighborsClassifier(n_neighbors = 5, weights = 'uniform', algorithm = 'brute', p = 2)\n",
        "  # weights : 'uniform', 'distance', or a custom function (accepts array of distances and returns array of same shape containing the weights)\n",
        "    # uniform, all points have same weight -- Default\n",
        "    # distance, points that are closer have more weight. by taking inverse of distance\n",
        "  # algorithm: 'ball_tree', 'kd_tree', 'brute', 'auto'  --- sparse inputs make it use brute\n",
        "    #auto default\n",
        "  # leaf_size: Passed to Balltree or kd tree only. Optimal value depends on nature of the problem\n",
        "    # 30 default\n",
        "  # p: p=1, uses manhattan distance while p=2, euclidean distance is used\n",
        "    # 2 default\n",
        "  # metric: uses euclidean distance by default so change if needed\n",
        "\n",
        "  #Attributes\n",
        "    #classes_ : class labels known to classifier\n",
        "    #effective_metric_ : the distance metric used\n",
        "    #n_features_in_ : number of features seen during fit\n",
        "    #feature_names_in_ : Names of features\n",
        "    #n_samples_fit_ : number of samples fitted in data\n",
        "neigh.fit(X_train, y_train)\n"
      ],
      "metadata": {
        "colab": {
          "base_uri": "https://localhost:8080/"
        },
        "id": "wbfCzIKnZNEV",
        "outputId": "11e4a284-c765-4ea0-edf0-9935ae80ef8b"
      },
      "execution_count": 6,
      "outputs": [
        {
          "output_type": "execute_result",
          "data": {
            "text/plain": [
              "KNeighborsClassifier(algorithm='brute')"
            ]
          },
          "metadata": {},
          "execution_count": 6
        }
      ]
    },
    {
      "cell_type": "code",
      "source": [
        "predict_values = neigh.predict(X_test)"
      ],
      "metadata": {
        "id": "-VtGFm-pa7VG"
      },
      "execution_count": 7,
      "outputs": []
    },
    {
      "cell_type": "code",
      "source": [
        "from sklearn import metrics\n",
        "# sum(predict_values == y_test) / len(y_test)\n",
        "print(\"Accuracy of model is:\", metrics.accuracy_score(y_test, predict_values)*100, '%')"
      ],
      "metadata": {
        "colab": {
          "base_uri": "https://localhost:8080/"
        },
        "id": "ejAkiZe1bFEa",
        "outputId": "b4a3a643-17f4-4007-ddbb-0c2cd924d31a"
      },
      "execution_count": 8,
      "outputs": [
        {
          "output_type": "stream",
          "name": "stdout",
          "text": [
            "Accuracy of model is: 96.88 %\n"
          ]
        }
      ]
    },
    {
      "cell_type": "markdown",
      "source": [
        "Running model with cross validation"
      ],
      "metadata": {
        "id": "rD0dj4Qdjwuh"
      }
    },
    {
      "cell_type": "code",
      "source": [
        "from sklearn.model_selection import cross_val_score\n",
        "cross_val_score(neigh, X_train, y_train, cv = 5, scoring = 'accuracy')"
      ],
      "metadata": {
        "colab": {
          "base_uri": "https://localhost:8080/"
        },
        "id": "nWZxlqrXcJwG",
        "outputId": "4609a89e-0559-4a66-b22a-9aec25130fda"
      },
      "execution_count": 9,
      "outputs": [
        {
          "output_type": "execute_result",
          "data": {
            "text/plain": [
              "array([0.96975   , 0.97016667, 0.96933333, 0.96816667, 0.969     ])"
            ]
          },
          "metadata": {},
          "execution_count": 9
        }
      ]
    },
    {
      "cell_type": "markdown",
      "source": [
        "Predicting model with cross validation"
      ],
      "metadata": {
        "id": "OLLANMqGj2HF"
      }
    },
    {
      "cell_type": "code",
      "source": [
        "from sklearn.model_selection import cross_val_predict\n",
        "#just likec ross val score but instead of accuracy, it gives us \"clean\" predictions for each instance of the training\n",
        "\n",
        "y_test_pred = cross_val_predict(neigh, X_test, y_test, cv = 3)"
      ],
      "metadata": {
        "id": "om4W-b8dgV-z"
      },
      "execution_count": 10,
      "outputs": []
    },
    {
      "cell_type": "markdown",
      "source": [
        "Confusion Matrix"
      ],
      "metadata": {
        "id": "dItfbn-akBKB"
      }
    },
    {
      "cell_type": "code",
      "source": [
        "from sklearn.metrics import confusion_matrix\n",
        "cm = confusion_matrix(y_test, y_test_pred)"
      ],
      "metadata": {
        "id": "4TQon3nsj9gQ"
      },
      "execution_count": 11,
      "outputs": []
    },
    {
      "cell_type": "code",
      "source": [
        "np.sum(cm, axis = 0) - 967"
      ],
      "metadata": {
        "colab": {
          "base_uri": "https://localhost:8080/"
        },
        "id": "g2bZs_tr6VIg",
        "outputId": "2cd6a467-03e0-4154-d7c8-4372c67d95b5"
      },
      "execution_count": 12,
      "outputs": [
        {
          "output_type": "execute_result",
          "data": {
            "text/plain": [
              "array([  46,  298,  -13,   73,   -8,  -95,    8,   83, -100,   38])"
            ]
          },
          "metadata": {},
          "execution_count": 12
        }
      ]
    },
    {
      "cell_type": "code",
      "source": [
        "cm"
      ],
      "metadata": {
        "colab": {
          "base_uri": "https://localhost:8080/"
        },
        "id": "f3SFnL1r7ptr",
        "outputId": "2c432d77-0b76-420b-96e7-e85910828674"
      },
      "execution_count": 13,
      "outputs": [
        {
          "output_type": "execute_result",
          "data": {
            "text/plain": [
              "array([[ 967,    1,    0,    0,    0,    3,    7,    1,    1,    0],\n",
              "       [   0, 1129,    2,    2,    0,    0,    2,    0,    0,    0],\n",
              "       [  17,   31,  933,    7,    5,    2,    5,   25,    5,    2],\n",
              "       [   0,    6,    4,  956,    0,   16,    0,   12,   10,    6],\n",
              "       [   0,   20,    2,    0,  909,    1,    7,    1,    0,   42],\n",
              "       [   5,   10,    1,   34,    2,  815,   12,    1,    4,    8],\n",
              "       [   9,    6,    1,    1,    3,    3,  935,    0,    0,    0],\n",
              "       [   0,   39,    2,    0,    4,    2,    0,  958,    0,   23],\n",
              "       [   7,   15,    6,   30,   15,   26,    6,   15,  844,   10],\n",
              "       [   8,    8,    3,   10,   21,    4,    1,   37,    3,  914]])"
            ]
          },
          "metadata": {},
          "execution_count": 13
        }
      ]
    },
    {
      "cell_type": "code",
      "source": [
        "import seaborn as sns\n",
        "plt.rcParams['figure.figsize'] = (20,20)\n",
        "sns.heatmap(cm / np.sum(cm), annot = True, fmt='.2%', cmap = 'Blues')"
      ],
      "metadata": {
        "colab": {
          "base_uri": "https://localhost:8080/",
          "height": 1000
        },
        "id": "BPQKUCfVkUob",
        "outputId": "3bf0dcdc-8c09-4771-9daf-e18c2195f2d4"
      },
      "execution_count": 14,
      "outputs": [
        {
          "output_type": "execute_result",
          "data": {
            "text/plain": [
              "<matplotlib.axes._subplots.AxesSubplot at 0x7f78518af550>"
            ]
          },
          "metadata": {},
          "execution_count": 14
        },
        {
          "output_type": "display_data",
          "data": {
            "text/plain": [
              "<Figure size 1440x1440 with 2 Axes>"
            ],
            "image/png": "[encoded data removed]"
          },
          "metadata": {
            "needs_background": "light"
          }
        }
      ]
    },
    {
      "cell_type": "code",
      "source": [
        "#predicted are the columns\n",
        "true_positives = list()\n",
        "true_negatives = list()\n",
        "false_negatives = list()\n",
        "false_positives = list()\n",
        "num_samples = list()\n",
        "for i in range(len(cm)):\n",
        "  true_positives.append(cm[i,i])\n",
        "  true_negatives.append(np.sum(true_positives) - true_positives[i])\n",
        "  false_negatives.append(np.sum(cm[i]) - true_positives[i])\n",
        "  false_positives.append(np.sum(cm, axis = 0)[i] - true_positives[i])\n",
        "  num_samples.append(np.sum(cm[i]))"
      ],
      "metadata": {
        "id": "jFQPyRrd9PVG"
      },
      "execution_count": 15,
      "outputs": []
    },
    {
      "cell_type": "code",
      "source": [
        "#Weighted metrics\n",
        "\n",
        "precision = np.array(true_positives) / (np.array(true_positives) + np.array(false_positives)) @ (np.array(num_samples) / np.sum(num_samples))\n",
        "recall = np.array(true_positives) / (np.array(true_positives) + np.array(false_negatives)) @ (np.array(num_samples) / np.sum(num_samples))\n",
        "f1_score = 2 * (precision * recall) / (precision + recall)\n",
        "\n",
        "print('Weighted precision:', str(np.round(precision * 100,3)), '%  ', 'Weighted recall:', str(np.round(recall * 100,3)), '%  ', 'F1_score:', str(np.round(f1_score * 100, 3)), '%  ')"
      ],
      "metadata": {
        "colab": {
          "base_uri": "https://localhost:8080/"
        },
        "id": "RUK2Rswn9PtS",
        "outputId": "c3484b49-350b-4aa3-9f4d-a871c4e4d6e6"
      },
      "execution_count": 16,
      "outputs": [
        {
          "output_type": "stream",
          "name": "stdout",
          "text": [
            "Weighted precision: 93.731 %   Weighted recall: 93.6 %   F1_score: 93.665 %  \n"
          ]
        }
      ]
    },
    {
      "cell_type": "code",
      "source": [
        "print(metrics.classification_report(y_test, y_test_pred, digits = 9))"
      ],
      "metadata": {
        "colab": {
          "base_uri": "https://localhost:8080/"
        },
        "id": "ej0DolDl9zZ0",
        "outputId": "bc219dfe-6413-4da7-93b2-6848f2c7a889"
      },
      "execution_count": 17,
      "outputs": [
        {
          "output_type": "stream",
          "name": "stdout",
          "text": [
            "              precision    recall  f1-score   support\n",
            "\n",
            "           0  0.954590326 0.986734694 0.970396387       980\n",
            "           1  0.892490119 0.994713656 0.940833333      1135\n",
            "           2  0.977987421 0.904069767 0.939577039      1032\n",
            "           3  0.919230769 0.946534653 0.932682927      1010\n",
            "           4  0.947862357 0.925661914 0.936630603       982\n",
            "           5  0.934633028 0.913677130 0.924036281       892\n",
            "           6  0.958974359 0.975991649 0.967408174       958\n",
            "           7  0.912380952 0.931906615 0.922040423      1028\n",
            "           8  0.973471742 0.866529774 0.916892993       974\n",
            "           9  0.909452736 0.905847374 0.907646475      1009\n",
            "\n",
            "    accuracy                      0.936000000     10000\n",
            "   macro avg  0.938107381 0.935166723 0.935814464     10000\n",
            "weighted avg  0.937309874 0.936000000 0.935800282     10000\n",
            "\n"
          ]
        }
      ]
    },
    {
      "cell_type": "markdown",
      "source": [
        "Looking at the confusion matrix above we can see that 9s and 4s seem to get confused the most, but that overall our predictions are on point"
      ],
      "metadata": {
        "id": "rEQ3-le3lTDo"
      }
    },
    {
      "cell_type": "markdown",
      "source": [
        "# Exercise 2. Adjusting images with augmentation and running it again\n",
        "\n",
        "* Shift all images one pixel up left right and down"
      ],
      "metadata": {
        "id": "nWYD_NGYGvAp"
      }
    },
    {
      "cell_type": "code",
      "source": [
        "from scipy.ndimage.interpolation import shift\n",
        "\n",
        "def shift_image(image, dx, dy):\n",
        "  image = image.reshape((28,28))\n",
        "  shifted_image = shift(image, [dy,dx], cval = 0)\n",
        "  return shifted_image.reshape([-1])\n",
        "\n",
        "X, y = mnist[\"data\"], mnist[\"target\"]\n",
        "split = 60000\n",
        "X_train, X_test, y_train, y_test = X[:split], X[split:], y[:split], y[split:]\n",
        "y_train, y_test = y_train.astype(np.uint8), y_test.astype(np.uint8)"
      ],
      "metadata": {
        "id": "d4PRroToCWmB"
      },
      "execution_count": 76,
      "outputs": []
    },
    {
      "cell_type": "code",
      "source": [
        "X_train = np.array(X_train)\n",
        "X_test = np.array(X_test)\n"
      ],
      "metadata": {
        "id": "hnjNqyEBI9ab"
      },
      "execution_count": 81,
      "outputs": []
    },
    {
      "cell_type": "code",
      "source": [
        "X_train_expanded = [image for image in X_train]\n",
        "y_train_expanded = [label for label in y_train]\n",
        "\n",
        "for dx, dy in ((1,0), (-1,0), (0,1), (0,-1)):\n",
        "  for image, label in zip(X_train, y_train):\n",
        "    X_train_expanded.append(shift_image(image, dx, dy))\n",
        "    y_train_expanded.append(label)\n"
      ],
      "metadata": {
        "id": "sdahYQxEEPP9"
      },
      "execution_count": 83,
      "outputs": []
    },
    {
      "cell_type": "code",
      "source": [
        "plt.figure(figsize = (12,3))\n",
        "plt.imshow(X_train_expanded[-100].reshape(28,28), cmap = \"Greys\")\n",
        "plt.show()"
      ],
      "metadata": {
        "colab": {
          "base_uri": "https://localhost:8080/",
          "height": 212
        },
        "id": "UPojCDVZE_-D",
        "outputId": "5abf7d6f-c7b2-4321-9564-56abe3f16925"
      },
      "execution_count": 84,
      "outputs": [
        {
          "output_type": "display_data",
          "data": {
            "text/plain": [
              "<Figure size 864x216 with 1 Axes>"
            ],
            "image/png": "[encoded data removed]"
          },
          "metadata": {
            "needs_background": "light"
          }
        }
      ]
    },
    {
      "cell_type": "code",
      "source": [
        "#Convert to numpy arrays\n",
        "X_train_augmented = np.array(X_train_expanded)\n",
        "y_train_augmented = np.array(y_train_expanded)\n"
      ],
      "metadata": {
        "id": "H5GjxtvvGBp5"
      },
      "execution_count": 85,
      "outputs": []
    },
    {
      "cell_type": "code",
      "source": [
        "shuffle_idx = np.random.permutation(len(X_train_expanded))\n",
        "X_train_augmented = X_train_augmented[shuffle_idx]\n",
        "y_train_augmented = y_train_augmented[shuffle_idx]"
      ],
      "metadata": {
        "id": "l_d-w9s2Fufp"
      },
      "execution_count": 86,
      "outputs": []
    },
    {
      "cell_type": "code",
      "source": [
        "# X_train_expanded[[2,3,4]] #will just grab the rows that we want"
      ],
      "metadata": {
        "id": "NBV7UuuRF6II"
      },
      "execution_count": 68,
      "outputs": []
    },
    {
      "cell_type": "code",
      "source": [
        "neigh = KNeighborsClassifier(n_neighbors = 5, weights = 'uniform', algorithm = 'brute', p = 2)\n",
        "neigh.fit(X_train_augmented, y_train_augmented)"
      ],
      "metadata": {
        "colab": {
          "base_uri": "https://localhost:8080/"
        },
        "id": "coSfk9jBGmgp",
        "outputId": "c6b122d9-8b3e-466e-9fc1-a8c78eaec5ab"
      },
      "execution_count": 89,
      "outputs": [
        {
          "output_type": "execute_result",
          "data": {
            "text/plain": [
              "KNeighborsClassifier(algorithm='brute')"
            ]
          },
          "metadata": {},
          "execution_count": 89
        }
      ]
    },
    {
      "cell_type": "code",
      "source": [
        "predict_values = neigh.predict(X_test)\n",
        "\n",
        "print(\"Accuracy of model is:\", metrics.accuracy_score(y_test, predict_values)*100, '%')"
      ],
      "metadata": {
        "colab": {
          "base_uri": "https://localhost:8080/"
        },
        "id": "uxVjz5T9HVOB",
        "outputId": "bed1a857-b632-4d9b-cfd9-9d3fd6dfeebc"
      },
      "execution_count": 90,
      "outputs": [
        {
          "output_type": "stream",
          "name": "stdout",
          "text": [
            "Accuracy of model is: 97.54 %\n"
          ]
        }
      ]
    },
    {
      "cell_type": "markdown",
      "source": [
        "We see an increase in accuracy after adding some data augmentation to the training data"
      ],
      "metadata": {
        "id": "0qUHP2SxRyNk"
      }
    },
    {
      "cell_type": "code",
      "source": [
        "print(len(y_test))"
      ],
      "metadata": {
        "colab": {
          "base_uri": "https://localhost:8080/"
        },
        "id": "D5VvIu3MQ1dW",
        "outputId": "8e16e719-830f-4a0e-8d70-2f99d48f8a8c"
      },
      "execution_count": 92,
      "outputs": [
        {
          "output_type": "stream",
          "name": "stdout",
          "text": [
            "10000\n"
          ]
        }
      ]
    }
  ]
}